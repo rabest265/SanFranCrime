{
 "cells": [
  {
   "cell_type": "code",
   "execution_count": 1,
   "metadata": {},
   "outputs": [],
   "source": [
    "import matplotlib.pyplot as plt\n",
    "import numpy as np\n",
    "import pandas as pd\n"
   ]
  },
  {
   "cell_type": "code",
   "execution_count": 2,
   "metadata": {},
   "outputs": [
    {
     "data": {
      "text/html": [
       "<div>\n",
       "<style scoped>\n",
       "    .dataframe tbody tr th:only-of-type {\n",
       "        vertical-align: middle;\n",
       "    }\n",
       "\n",
       "    .dataframe tbody tr th {\n",
       "        vertical-align: top;\n",
       "    }\n",
       "\n",
       "    .dataframe thead th {\n",
       "        text-align: right;\n",
       "    }\n",
       "</style>\n",
       "<table border=\"1\" class=\"dataframe\">\n",
       "  <thead>\n",
       "    <tr style=\"text-align: right;\">\n",
       "      <th></th>\n",
       "      <th>IncidntNum</th>\n",
       "      <th>Category</th>\n",
       "      <th>Descript</th>\n",
       "      <th>DayOfWeek</th>\n",
       "      <th>Date</th>\n",
       "      <th>Year</th>\n",
       "      <th>Time</th>\n",
       "      <th>Time_Frame</th>\n",
       "      <th>PdDistrict</th>\n",
       "      <th>Resolution</th>\n",
       "      <th>Address</th>\n",
       "      <th>Longitude</th>\n",
       "      <th>Latitude</th>\n",
       "      <th>Police_Districts</th>\n",
       "    </tr>\n",
       "  </thead>\n",
       "  <tbody>\n",
       "    <tr>\n",
       "      <th>0</th>\n",
       "      <td>123436</td>\n",
       "      <td>SEX OFFENSES, FORCIBLE</td>\n",
       "      <td>FORCIBLE RAPE, BODILY FORCE</td>\n",
       "      <td>Friday</td>\n",
       "      <td>2004-07-02</td>\n",
       "      <td>2004</td>\n",
       "      <td>14:08:00</td>\n",
       "      <td>3</td>\n",
       "      <td>SOUTHERN</td>\n",
       "      <td>ARREST, BOOKED</td>\n",
       "      <td>800 Block of BRYANT ST</td>\n",
       "      <td>-122.403405</td>\n",
       "      <td>37.775421</td>\n",
       "      <td>1.0</td>\n",
       "    </tr>\n",
       "    <tr>\n",
       "      <th>1</th>\n",
       "      <td>384456</td>\n",
       "      <td>SEX OFFENSES, FORCIBLE</td>\n",
       "      <td>SODOMY (ADULT VICTIM)</td>\n",
       "      <td>Wednesday</td>\n",
       "      <td>2010-01-06</td>\n",
       "      <td>2010</td>\n",
       "      <td>15:00:00</td>\n",
       "      <td>3</td>\n",
       "      <td>SOUTHERN</td>\n",
       "      <td>COMPLAINANT REFUSES TO PROSECUTE</td>\n",
       "      <td>800 Block of BRYANT ST</td>\n",
       "      <td>-122.403405</td>\n",
       "      <td>37.775421</td>\n",
       "      <td>1.0</td>\n",
       "    </tr>\n",
       "    <tr>\n",
       "      <th>2</th>\n",
       "      <td>571158</td>\n",
       "      <td>SEX OFFENSES, FORCIBLE</td>\n",
       "      <td>FORCIBLE RAPE, BODILY FORCE</td>\n",
       "      <td>Monday</td>\n",
       "      <td>2010-05-10</td>\n",
       "      <td>2010</td>\n",
       "      <td>14:25:00</td>\n",
       "      <td>3</td>\n",
       "      <td>SOUTHERN</td>\n",
       "      <td>DISTRICT ATTORNEY REFUSES TO PROSECUTE</td>\n",
       "      <td>800 Block of BRYANT ST</td>\n",
       "      <td>-122.403405</td>\n",
       "      <td>37.775421</td>\n",
       "      <td>1.0</td>\n",
       "    </tr>\n",
       "    <tr>\n",
       "      <th>3</th>\n",
       "      <td>600638</td>\n",
       "      <td>SEX OFFENSES, FORCIBLE</td>\n",
       "      <td>FORCIBLE RAPE, BODILY FORCE</td>\n",
       "      <td>Thursday</td>\n",
       "      <td>2010-05-20</td>\n",
       "      <td>2010</td>\n",
       "      <td>14:40:00</td>\n",
       "      <td>3</td>\n",
       "      <td>SOUTHERN</td>\n",
       "      <td>EXCEPTIONAL CLEARANCE</td>\n",
       "      <td>800 Block of BRYANT ST</td>\n",
       "      <td>-122.403405</td>\n",
       "      <td>37.775421</td>\n",
       "      <td>1.0</td>\n",
       "    </tr>\n",
       "    <tr>\n",
       "      <th>4</th>\n",
       "      <td>810207</td>\n",
       "      <td>KIDNAPPING</td>\n",
       "      <td>FALSE IMPRISONMENT</td>\n",
       "      <td>Wednesday</td>\n",
       "      <td>2003-07-09</td>\n",
       "      <td>2003</td>\n",
       "      <td>21:15:00</td>\n",
       "      <td>4</td>\n",
       "      <td>SOUTHERN</td>\n",
       "      <td>ARREST, BOOKED</td>\n",
       "      <td>800 Block of BRYANT ST</td>\n",
       "      <td>-122.403405</td>\n",
       "      <td>37.775421</td>\n",
       "      <td>1.0</td>\n",
       "    </tr>\n",
       "  </tbody>\n",
       "</table>\n",
       "</div>"
      ],
      "text/plain": [
       "   IncidntNum                Category                     Descript  DayOfWeek  \\\n",
       "0      123436  SEX OFFENSES, FORCIBLE  FORCIBLE RAPE, BODILY FORCE     Friday   \n",
       "1      384456  SEX OFFENSES, FORCIBLE        SODOMY (ADULT VICTIM)  Wednesday   \n",
       "2      571158  SEX OFFENSES, FORCIBLE  FORCIBLE RAPE, BODILY FORCE     Monday   \n",
       "3      600638  SEX OFFENSES, FORCIBLE  FORCIBLE RAPE, BODILY FORCE   Thursday   \n",
       "4      810207              KIDNAPPING           FALSE IMPRISONMENT  Wednesday   \n",
       "\n",
       "         Date  Year      Time  Time_Frame PdDistrict  \\\n",
       "0  2004-07-02  2004  14:08:00           3   SOUTHERN   \n",
       "1  2010-01-06  2010  15:00:00           3   SOUTHERN   \n",
       "2  2010-05-10  2010  14:25:00           3   SOUTHERN   \n",
       "3  2010-05-20  2010  14:40:00           3   SOUTHERN   \n",
       "4  2003-07-09  2003  21:15:00           4   SOUTHERN   \n",
       "\n",
       "                               Resolution                 Address   Longitude  \\\n",
       "0                          ARREST, BOOKED  800 Block of BRYANT ST -122.403405   \n",
       "1        COMPLAINANT REFUSES TO PROSECUTE  800 Block of BRYANT ST -122.403405   \n",
       "2  DISTRICT ATTORNEY REFUSES TO PROSECUTE  800 Block of BRYANT ST -122.403405   \n",
       "3                   EXCEPTIONAL CLEARANCE  800 Block of BRYANT ST -122.403405   \n",
       "4                          ARREST, BOOKED  800 Block of BRYANT ST -122.403405   \n",
       "\n",
       "    Latitude  Police_Districts  \n",
       "0  37.775421               1.0  \n",
       "1  37.775421               1.0  \n",
       "2  37.775421               1.0  \n",
       "3  37.775421               1.0  \n",
       "4  37.775421               1.0  "
      ]
     },
     "execution_count": 2,
     "metadata": {},
     "output_type": "execute_result"
    }
   ],
   "source": [
    "# Read the csv file into a pandas DataFrame\n",
    "violent = pd.read_csv('../Data/Incidents_Violent.csv')\n",
    "violent.head()"
   ]
  },
  {
   "cell_type": "code",
   "execution_count": 3,
   "metadata": {},
   "outputs": [],
   "source": [
    "violent = violent[[\"IncidntNum\",\"Category\", \"Time\", \"Time_Frame\", \"PdDistrict\", \"DayOfWeek\", \"Date\"]]"
   ]
  },
  {
   "cell_type": "code",
   "execution_count": 4,
   "metadata": {},
   "outputs": [
    {
     "data": {
      "text/html": [
       "<div>\n",
       "<style scoped>\n",
       "    .dataframe tbody tr th:only-of-type {\n",
       "        vertical-align: middle;\n",
       "    }\n",
       "\n",
       "    .dataframe tbody tr th {\n",
       "        vertical-align: top;\n",
       "    }\n",
       "\n",
       "    .dataframe thead th {\n",
       "        text-align: right;\n",
       "    }\n",
       "</style>\n",
       "<table border=\"1\" class=\"dataframe\">\n",
       "  <thead>\n",
       "    <tr style=\"text-align: right;\">\n",
       "      <th></th>\n",
       "      <th>IncidntNum</th>\n",
       "      <th>Category</th>\n",
       "      <th>Time</th>\n",
       "      <th>Time_Frame</th>\n",
       "      <th>PdDistrict</th>\n",
       "      <th>DayOfWeek</th>\n",
       "      <th>Date</th>\n",
       "      <th>month</th>\n",
       "      <th>year</th>\n",
       "      <th>hour</th>\n",
       "    </tr>\n",
       "  </thead>\n",
       "  <tbody>\n",
       "    <tr>\n",
       "      <th>0</th>\n",
       "      <td>123436</td>\n",
       "      <td>SEX OFFENSES, FORCIBLE</td>\n",
       "      <td>14:08:00</td>\n",
       "      <td>3</td>\n",
       "      <td>SOUTHERN</td>\n",
       "      <td>Friday</td>\n",
       "      <td>2004-07-02</td>\n",
       "      <td>7</td>\n",
       "      <td>2004</td>\n",
       "      <td>14</td>\n",
       "    </tr>\n",
       "    <tr>\n",
       "      <th>1</th>\n",
       "      <td>384456</td>\n",
       "      <td>SEX OFFENSES, FORCIBLE</td>\n",
       "      <td>15:00:00</td>\n",
       "      <td>3</td>\n",
       "      <td>SOUTHERN</td>\n",
       "      <td>Wednesday</td>\n",
       "      <td>2010-01-06</td>\n",
       "      <td>1</td>\n",
       "      <td>2010</td>\n",
       "      <td>15</td>\n",
       "    </tr>\n",
       "    <tr>\n",
       "      <th>2</th>\n",
       "      <td>571158</td>\n",
       "      <td>SEX OFFENSES, FORCIBLE</td>\n",
       "      <td>14:25:00</td>\n",
       "      <td>3</td>\n",
       "      <td>SOUTHERN</td>\n",
       "      <td>Monday</td>\n",
       "      <td>2010-05-10</td>\n",
       "      <td>5</td>\n",
       "      <td>2010</td>\n",
       "      <td>14</td>\n",
       "    </tr>\n",
       "    <tr>\n",
       "      <th>3</th>\n",
       "      <td>600638</td>\n",
       "      <td>SEX OFFENSES, FORCIBLE</td>\n",
       "      <td>14:40:00</td>\n",
       "      <td>3</td>\n",
       "      <td>SOUTHERN</td>\n",
       "      <td>Thursday</td>\n",
       "      <td>2010-05-20</td>\n",
       "      <td>5</td>\n",
       "      <td>2010</td>\n",
       "      <td>14</td>\n",
       "    </tr>\n",
       "    <tr>\n",
       "      <th>4</th>\n",
       "      <td>810207</td>\n",
       "      <td>KIDNAPPING</td>\n",
       "      <td>21:15:00</td>\n",
       "      <td>4</td>\n",
       "      <td>SOUTHERN</td>\n",
       "      <td>Wednesday</td>\n",
       "      <td>2003-07-09</td>\n",
       "      <td>7</td>\n",
       "      <td>2003</td>\n",
       "      <td>21</td>\n",
       "    </tr>\n",
       "  </tbody>\n",
       "</table>\n",
       "</div>"
      ],
      "text/plain": [
       "   IncidntNum                Category      Time  Time_Frame PdDistrict  \\\n",
       "0      123436  SEX OFFENSES, FORCIBLE  14:08:00           3   SOUTHERN   \n",
       "1      384456  SEX OFFENSES, FORCIBLE  15:00:00           3   SOUTHERN   \n",
       "2      571158  SEX OFFENSES, FORCIBLE  14:25:00           3   SOUTHERN   \n",
       "3      600638  SEX OFFENSES, FORCIBLE  14:40:00           3   SOUTHERN   \n",
       "4      810207              KIDNAPPING  21:15:00           4   SOUTHERN   \n",
       "\n",
       "   DayOfWeek        Date  month  year  hour  \n",
       "0     Friday  2004-07-02      7  2004    14  \n",
       "1  Wednesday  2010-01-06      1  2010    15  \n",
       "2     Monday  2010-05-10      5  2010    14  \n",
       "3   Thursday  2010-05-20      5  2010    14  \n",
       "4  Wednesday  2003-07-09      7  2003    21  "
      ]
     },
     "execution_count": 4,
     "metadata": {},
     "output_type": "execute_result"
    }
   ],
   "source": [
    "violent[\"month\"] = pd.DatetimeIndex(violent['Date']).month\n",
    "violent[\"year\"]= pd.DatetimeIndex(violent['Date']).year\n",
    "violent[\"hour\"]= pd.DatetimeIndex(violent['Time']).hour\n",
    "\n",
    "violent.head()"
   ]
  },
  {
   "cell_type": "code",
   "execution_count": 5,
   "metadata": {},
   "outputs": [
    {
     "data": {
      "text/html": [
       "<div>\n",
       "<style scoped>\n",
       "    .dataframe tbody tr th:only-of-type {\n",
       "        vertical-align: middle;\n",
       "    }\n",
       "\n",
       "    .dataframe tbody tr th {\n",
       "        vertical-align: top;\n",
       "    }\n",
       "\n",
       "    .dataframe thead th {\n",
       "        text-align: right;\n",
       "    }\n",
       "</style>\n",
       "<table border=\"1\" class=\"dataframe\">\n",
       "  <thead>\n",
       "    <tr style=\"text-align: right;\">\n",
       "      <th></th>\n",
       "      <th>Time_Frame</th>\n",
       "      <th>PdDistrict</th>\n",
       "      <th>DayOfWeek</th>\n",
       "      <th>month</th>\n",
       "      <th>count</th>\n",
       "    </tr>\n",
       "  </thead>\n",
       "  <tbody>\n",
       "    <tr>\n",
       "      <th>0</th>\n",
       "      <td>1</td>\n",
       "      <td>BAYVIEW</td>\n",
       "      <td>Friday</td>\n",
       "      <td>1</td>\n",
       "      <td>63</td>\n",
       "    </tr>\n",
       "    <tr>\n",
       "      <th>1</th>\n",
       "      <td>1</td>\n",
       "      <td>BAYVIEW</td>\n",
       "      <td>Friday</td>\n",
       "      <td>2</td>\n",
       "      <td>38</td>\n",
       "    </tr>\n",
       "    <tr>\n",
       "      <th>2</th>\n",
       "      <td>1</td>\n",
       "      <td>BAYVIEW</td>\n",
       "      <td>Friday</td>\n",
       "      <td>3</td>\n",
       "      <td>64</td>\n",
       "    </tr>\n",
       "    <tr>\n",
       "      <th>3</th>\n",
       "      <td>1</td>\n",
       "      <td>BAYVIEW</td>\n",
       "      <td>Friday</td>\n",
       "      <td>4</td>\n",
       "      <td>51</td>\n",
       "    </tr>\n",
       "    <tr>\n",
       "      <th>4</th>\n",
       "      <td>1</td>\n",
       "      <td>BAYVIEW</td>\n",
       "      <td>Friday</td>\n",
       "      <td>5</td>\n",
       "      <td>62</td>\n",
       "    </tr>\n",
       "  </tbody>\n",
       "</table>\n",
       "</div>"
      ],
      "text/plain": [
       "   Time_Frame PdDistrict DayOfWeek  month  count\n",
       "0           1    BAYVIEW    Friday      1     63\n",
       "1           1    BAYVIEW    Friday      2     38\n",
       "2           1    BAYVIEW    Friday      3     64\n",
       "3           1    BAYVIEW    Friday      4     51\n",
       "4           1    BAYVIEW    Friday      5     62"
      ]
     },
     "execution_count": 5,
     "metadata": {},
     "output_type": "execute_result"
    }
   ],
   "source": [
    "# group_violent = violent.groupby([\"Category\",\"Time_Frame\", \"PdDistrict\", \"DayOfWeek\", \"month\"])[\"IncidntNum\"].count().reset_index(name=\"count\")\n",
    "group_violent = violent.groupby([\"Time_Frame\", \"PdDistrict\", \"DayOfWeek\", \"month\"])[\"IncidntNum\"].count().reset_index(name=\"count\")\n",
    "\n",
    "group_violent.head()"
   ]
  },
  {
   "cell_type": "code",
   "execution_count": 6,
   "metadata": {
    "deletable": false,
    "nbgrader": {
     "checksum": "4a4ab3546a5845819360d92fceef3302",
     "grade": false,
     "grade_id": "cell-41760f7611f17b25",
     "locked": false,
     "schema_version": 1,
     "solution": true
    }
   },
   "outputs": [
    {
     "data": {
      "text/html": [
       "<div>\n",
       "<style scoped>\n",
       "    .dataframe tbody tr th:only-of-type {\n",
       "        vertical-align: middle;\n",
       "    }\n",
       "\n",
       "    .dataframe tbody tr th {\n",
       "        vertical-align: top;\n",
       "    }\n",
       "\n",
       "    .dataframe thead th {\n",
       "        text-align: right;\n",
       "    }\n",
       "</style>\n",
       "<table border=\"1\" class=\"dataframe\">\n",
       "  <thead>\n",
       "    <tr style=\"text-align: right;\">\n",
       "      <th></th>\n",
       "      <th>Time_Frame_1</th>\n",
       "      <th>Time_Frame_2</th>\n",
       "      <th>Time_Frame_3</th>\n",
       "      <th>Time_Frame_4</th>\n",
       "      <th>PdDistrict_BAYVIEW</th>\n",
       "      <th>PdDistrict_CENTRAL</th>\n",
       "      <th>PdDistrict_INGLESIDE</th>\n",
       "      <th>PdDistrict_MISSION</th>\n",
       "      <th>PdDistrict_NORTHERN</th>\n",
       "      <th>PdDistrict_PARK</th>\n",
       "      <th>...</th>\n",
       "      <th>month_11</th>\n",
       "      <th>month_12</th>\n",
       "      <th>month_2</th>\n",
       "      <th>month_3</th>\n",
       "      <th>month_4</th>\n",
       "      <th>month_5</th>\n",
       "      <th>month_6</th>\n",
       "      <th>month_7</th>\n",
       "      <th>month_8</th>\n",
       "      <th>month_9</th>\n",
       "    </tr>\n",
       "  </thead>\n",
       "  <tbody>\n",
       "    <tr>\n",
       "      <th>0</th>\n",
       "      <td>1</td>\n",
       "      <td>0</td>\n",
       "      <td>0</td>\n",
       "      <td>0</td>\n",
       "      <td>1</td>\n",
       "      <td>0</td>\n",
       "      <td>0</td>\n",
       "      <td>0</td>\n",
       "      <td>0</td>\n",
       "      <td>0</td>\n",
       "      <td>...</td>\n",
       "      <td>0</td>\n",
       "      <td>0</td>\n",
       "      <td>0</td>\n",
       "      <td>0</td>\n",
       "      <td>0</td>\n",
       "      <td>0</td>\n",
       "      <td>0</td>\n",
       "      <td>0</td>\n",
       "      <td>0</td>\n",
       "      <td>0</td>\n",
       "    </tr>\n",
       "    <tr>\n",
       "      <th>1</th>\n",
       "      <td>1</td>\n",
       "      <td>0</td>\n",
       "      <td>0</td>\n",
       "      <td>0</td>\n",
       "      <td>1</td>\n",
       "      <td>0</td>\n",
       "      <td>0</td>\n",
       "      <td>0</td>\n",
       "      <td>0</td>\n",
       "      <td>0</td>\n",
       "      <td>...</td>\n",
       "      <td>0</td>\n",
       "      <td>0</td>\n",
       "      <td>1</td>\n",
       "      <td>0</td>\n",
       "      <td>0</td>\n",
       "      <td>0</td>\n",
       "      <td>0</td>\n",
       "      <td>0</td>\n",
       "      <td>0</td>\n",
       "      <td>0</td>\n",
       "    </tr>\n",
       "    <tr>\n",
       "      <th>2</th>\n",
       "      <td>1</td>\n",
       "      <td>0</td>\n",
       "      <td>0</td>\n",
       "      <td>0</td>\n",
       "      <td>1</td>\n",
       "      <td>0</td>\n",
       "      <td>0</td>\n",
       "      <td>0</td>\n",
       "      <td>0</td>\n",
       "      <td>0</td>\n",
       "      <td>...</td>\n",
       "      <td>0</td>\n",
       "      <td>0</td>\n",
       "      <td>0</td>\n",
       "      <td>1</td>\n",
       "      <td>0</td>\n",
       "      <td>0</td>\n",
       "      <td>0</td>\n",
       "      <td>0</td>\n",
       "      <td>0</td>\n",
       "      <td>0</td>\n",
       "    </tr>\n",
       "    <tr>\n",
       "      <th>3</th>\n",
       "      <td>1</td>\n",
       "      <td>0</td>\n",
       "      <td>0</td>\n",
       "      <td>0</td>\n",
       "      <td>1</td>\n",
       "      <td>0</td>\n",
       "      <td>0</td>\n",
       "      <td>0</td>\n",
       "      <td>0</td>\n",
       "      <td>0</td>\n",
       "      <td>...</td>\n",
       "      <td>0</td>\n",
       "      <td>0</td>\n",
       "      <td>0</td>\n",
       "      <td>0</td>\n",
       "      <td>1</td>\n",
       "      <td>0</td>\n",
       "      <td>0</td>\n",
       "      <td>0</td>\n",
       "      <td>0</td>\n",
       "      <td>0</td>\n",
       "    </tr>\n",
       "    <tr>\n",
       "      <th>4</th>\n",
       "      <td>1</td>\n",
       "      <td>0</td>\n",
       "      <td>0</td>\n",
       "      <td>0</td>\n",
       "      <td>1</td>\n",
       "      <td>0</td>\n",
       "      <td>0</td>\n",
       "      <td>0</td>\n",
       "      <td>0</td>\n",
       "      <td>0</td>\n",
       "      <td>...</td>\n",
       "      <td>0</td>\n",
       "      <td>0</td>\n",
       "      <td>0</td>\n",
       "      <td>0</td>\n",
       "      <td>0</td>\n",
       "      <td>1</td>\n",
       "      <td>0</td>\n",
       "      <td>0</td>\n",
       "      <td>0</td>\n",
       "      <td>0</td>\n",
       "    </tr>\n",
       "  </tbody>\n",
       "</table>\n",
       "<p>5 rows × 33 columns</p>\n",
       "</div>"
      ],
      "text/plain": [
       "   Time_Frame_1  Time_Frame_2  Time_Frame_3  Time_Frame_4  PdDistrict_BAYVIEW  \\\n",
       "0             1             0             0             0                   1   \n",
       "1             1             0             0             0                   1   \n",
       "2             1             0             0             0                   1   \n",
       "3             1             0             0             0                   1   \n",
       "4             1             0             0             0                   1   \n",
       "\n",
       "   PdDistrict_CENTRAL  PdDistrict_INGLESIDE  PdDistrict_MISSION  \\\n",
       "0                   0                     0                   0   \n",
       "1                   0                     0                   0   \n",
       "2                   0                     0                   0   \n",
       "3                   0                     0                   0   \n",
       "4                   0                     0                   0   \n",
       "\n",
       "   PdDistrict_NORTHERN  PdDistrict_PARK   ...     month_11  month_12  month_2  \\\n",
       "0                    0                0   ...            0         0        0   \n",
       "1                    0                0   ...            0         0        1   \n",
       "2                    0                0   ...            0         0        0   \n",
       "3                    0                0   ...            0         0        0   \n",
       "4                    0                0   ...            0         0        0   \n",
       "\n",
       "   month_3  month_4  month_5  month_6  month_7  month_8  month_9  \n",
       "0        0        0        0        0        0        0        0  \n",
       "1        0        0        0        0        0        0        0  \n",
       "2        1        0        0        0        0        0        0  \n",
       "3        0        1        0        0        0        0        0  \n",
       "4        0        0        1        0        0        0        0  \n",
       "\n",
       "[5 rows x 33 columns]"
      ]
     },
     "execution_count": 6,
     "metadata": {},
     "output_type": "execute_result"
    }
   ],
   "source": [
    "# Use Pandas get_dummies to convert categorical data\n",
    "X = pd.get_dummies(group_violent.astype(str)[[\"Time_Frame\", \"PdDistrict\", \"DayOfWeek\", \"month\"]])\n",
    "y = group_violent[\"count\"].values.reshape(-1, 1)\n",
    "X.head()"
   ]
  },
  {
   "cell_type": "code",
   "execution_count": null,
   "metadata": {
    "deletable": false,
    "nbgrader": {
     "checksum": "c85e4dbcdcb3b4464775c7f3b619c21d",
     "grade": false,
     "grade_id": "cell-a61368ced39885a2",
     "locked": false,
     "schema_version": 1,
     "solution": true
    }
   },
   "outputs": [],
   "source": []
  },
  {
   "cell_type": "code",
   "execution_count": 7,
   "metadata": {
    "deletable": false,
    "nbgrader": {
     "checksum": "abe4cfe288636b2e1a6b688247c802f4",
     "grade": false,
     "grade_id": "cell-62193e4c8caef9c5",
     "locked": false,
     "schema_version": 1,
     "solution": true
    }
   },
   "outputs": [],
   "source": [
    "# Split the data into training and testing\n",
    "\n",
    "from sklearn.model_selection import train_test_split\n",
    "\n",
    "X_train, X_test, y_train, y_test = train_test_split(X, y)"
   ]
  },
  {
   "cell_type": "code",
   "execution_count": 8,
   "metadata": {
    "deletable": false,
    "nbgrader": {
     "checksum": "6bf26418ea13fb8cc3fb43c2e5ad8e2e",
     "grade": false,
     "grade_id": "cell-a885840c1f62d274",
     "locked": false,
     "schema_version": 1,
     "solution": true
    }
   },
   "outputs": [],
   "source": [
    "# Create a StandardScater model and fit it to the training data\n",
    "\n",
    "# import warnings\n",
    "# warnings.simplefilter('ignore')\n",
    "\n",
    "# from sklearn.preprocessing import StandardScaler\n",
    "# X_scaler = StandardScaler().fit(X_train)\n",
    "# y_scaler = StandardScaler().fit(y_train)"
   ]
  },
  {
   "cell_type": "code",
   "execution_count": 9,
   "metadata": {
    "deletable": false,
    "nbgrader": {
     "checksum": "9fe4c2d7fe5a3bcaef07e40e5849604e",
     "grade": false,
     "grade_id": "cell-a9cd5d1ec0f114ea",
     "locked": false,
     "schema_version": 1,
     "solution": true
    }
   },
   "outputs": [],
   "source": [
    "# Transform the training and testing data using the X_scaler and y_scaler models\n",
    "\n",
    "# X_train_scaled = X_scaler.transform(X_train)\n",
    "# X_test_scaled = X_scaler.transform(X_test)\n",
    "# y_train_scaled = y_scaler.transform(y_train)\n",
    "# y_test_scaled = y_scaler.transform(y_test)"
   ]
  },
  {
   "cell_type": "code",
   "execution_count": 10,
   "metadata": {
    "deletable": false,
    "nbgrader": {
     "checksum": "5cd87ecbf057dd4c08940ad8cf0c1356",
     "grade": false,
     "grade_id": "cell-4df70e615bb36ac1",
     "locked": false,
     "schema_version": 1,
     "solution": true
    }
   },
   "outputs": [
    {
     "data": {
      "text/plain": [
       "LinearRegression(copy_X=True, fit_intercept=True, n_jobs=None,\n",
       "         normalize=False)"
      ]
     },
     "execution_count": 10,
     "metadata": {},
     "output_type": "execute_result"
    }
   ],
   "source": [
    "# Create a LinearRegression model and fit it to the scaled training data\n",
    "from sklearn.linear_model import LinearRegression\n",
    "model = LinearRegression()\n",
    "model.fit(X_train, y_train)\n"
   ]
  },
  {
   "cell_type": "code",
   "execution_count": 11,
   "metadata": {
    "deletable": false,
    "nbgrader": {
     "checksum": "e4792e99b43a4f909f0399b40c342606",
     "grade": false,
     "grade_id": "cell-ec6532d8dc790021",
     "locked": false,
     "schema_version": 1,
     "solution": true
    }
   },
   "outputs": [
    {
     "data": {
      "image/png": "[encoded data removed]",
      "text/plain": [
       "<Figure size 432x288 with 1 Axes>"
      ]
     },
     "metadata": {
      "needs_background": "light"
     },
     "output_type": "display_data"
    }
   ],
   "source": [
    "# Make predictions using the X_test_scaled data\n",
    "# Plot y_test_scaled vs y_test_scaled\n",
    "# Scatter plot y_test_scaled vs predictions\n",
    "plt.scatter(model.predict(X_train), model.predict(X_train) - y_train, c=\"blue\", label=\"Training Data\")\n",
    "plt.scatter(model.predict(X_test), model.predict(X_test) - y_test, c=\"orange\", label=\"Testing Data\")\n",
    "plt.legend()\n",
    "plt.hlines(y=0, xmin=y_test.min(), xmax=y_test.max())\n",
    "plt.title(\"Residual Plot\")\n",
    "plt.show()"
   ]
  },
  {
   "cell_type": "code",
   "execution_count": 12,
   "metadata": {
    "deletable": false,
    "nbgrader": {
     "checksum": "5814ecf303d4f83d2f5000886312e2d1",
     "grade": false,
     "grade_id": "cell-deb1d9b663c1883f",
     "locked": false,
     "schema_version": 1,
     "solution": true
    }
   },
   "outputs": [
    {
     "name": "stdout",
     "output_type": "stream",
     "text": [
      "TEST MSE: 391.5469494047619, R2: 0.7523299117340811\n",
      "TRAIN MSE: 400.55894717261907, R2: 0.7670215614126346\n"
     ]
    }
   ],
   "source": [
    "# Used X_test_scaled, y_test_scaled, and model.predict(X_test_scaled) to calculate MSE and R2\n",
    "from sklearn.metrics import mean_squared_error, r2_score\n",
    "predicted = model.predict(X_test)\n",
    "predicted2 = model.predict(X_train)\n",
    "\n",
    "# Score the prediction with mse and r2\n",
    "mse = mean_squared_error(y_test, predicted)\n",
    "r2 = r2_score(y_test, predicted)\n",
    "\n",
    "mse2 = mean_squared_error(y_train, predicted2)\n",
    "r22 = r2_score(y_train, predicted2)\n",
    "\n",
    "\n",
    "print(f\"TEST MSE: {mse}, R2: {r2}\")\n",
    "print(f\"TRAIN MSE: {mse2}, R2: {r22}\")"
   ]
  },
  {
   "cell_type": "code",
   "execution_count": 13,
   "metadata": {},
   "outputs": [
    {
     "data": {
      "text/plain": [
       "Index(['Time_Frame_1', 'Time_Frame_2', 'Time_Frame_3', 'Time_Frame_4',\n",
       "       'PdDistrict_BAYVIEW', 'PdDistrict_CENTRAL', 'PdDistrict_INGLESIDE',\n",
       "       'PdDistrict_MISSION', 'PdDistrict_NORTHERN', 'PdDistrict_PARK',\n",
       "       'PdDistrict_RICHMOND', 'PdDistrict_SOUTHERN', 'PdDistrict_TARAVAL',\n",
       "       'PdDistrict_TENDERLOIN', 'DayOfWeek_Friday', 'DayOfWeek_Monday',\n",
       "       'DayOfWeek_Saturday', 'DayOfWeek_Sunday', 'DayOfWeek_Thursday',\n",
       "       'DayOfWeek_Tuesday', 'DayOfWeek_Wednesday', 'month_1', 'month_10',\n",
       "       'month_11', 'month_12', 'month_2', 'month_3', 'month_4', 'month_5',\n",
       "       'month_6', 'month_7', 'month_8', 'month_9'],\n",
       "      dtype='object')"
      ]
     },
     "execution_count": 13,
     "metadata": {},
     "output_type": "execute_result"
    }
   ],
   "source": [
    "X.columns"
   ]
  },
  {
   "cell_type": "code",
   "execution_count": 14,
   "metadata": {},
   "outputs": [
    {
     "data": {
      "text/plain": [
       "array([[ 1.62569839e+14,  1.62569839e+14,  1.62569839e+14,\n",
       "         1.62569839e+14,  1.02891367e+14,  1.02891367e+14,\n",
       "         1.02891367e+14,  1.02891367e+14,  1.02891367e+14,\n",
       "         1.02891367e+14,  1.02891367e+14,  1.02891367e+14,\n",
       "         1.02891367e+14,  1.02891367e+14,  3.01623198e+13,\n",
       "         3.01623198e+13,  3.01623198e+13,  3.01623198e+13,\n",
       "         3.01623198e+13,  3.01623198e+13,  3.01623198e+13,\n",
       "        -8.61682963e+12, -8.61682963e+12, -8.61682963e+12,\n",
       "        -8.61682963e+12, -8.61682963e+12, -8.61682963e+12,\n",
       "        -8.61682963e+12, -8.61682963e+12, -8.61682963e+12,\n",
       "        -8.61682963e+12, -8.61682963e+12, -8.61682963e+12]])"
      ]
     },
     "execution_count": 14,
     "metadata": {},
     "output_type": "execute_result"
    }
   ],
   "source": [
    "model.coef_"
   ]
  },
  {
   "cell_type": "code",
   "execution_count": 15,
   "metadata": {},
   "outputs": [
    {
     "data": {
      "text/plain": [
       "array([-2.87006696e+14])"
      ]
     },
     "execution_count": 15,
     "metadata": {},
     "output_type": "execute_result"
    }
   ],
   "source": [
    "model.intercept_"
   ]
  },
  {
   "cell_type": "code",
   "execution_count": null,
   "metadata": {
    "scrolled": false
   },
   "outputs": [],
   "source": [
    "# # you must divide your coefficient array element wise by the (since v0.17) scaler.scale_ array: \n",
    "# coefficients = np.true_divide(model.coef_, X_scaler.scale_)\n",
    "\n",
    "# # you must subtract from your intercept the inner product of the resulting coefficients (the division result) array with the scaler.mean_ array: intercept = lr.intercept_ - np.dot(coefficients, scaler.mean_)\n",
    "# coefficients"
   ]
  },
  {
   "cell_type": "code",
   "execution_count": null,
   "metadata": {},
   "outputs": [],
   "source": [
    "# intercept = model.intercept_ - np.dot(coefficients, X_scaler.mean_)\n",
    "# intercept"
   ]
  },
  {
   "cell_type": "code",
   "execution_count": 16,
   "metadata": {
    "deletable": false,
    "nbgrader": {
     "checksum": "23b4ec91a18833b533556706f508be22",
     "grade": false,
     "grade_id": "cell-1dbfa38f409ceb7c",
     "locked": false,
     "schema_version": 1,
     "solution": true
    }
   },
   "outputs": [
    {
     "data": {
      "text/plain": [
       "Time_Frame          1\n",
       "PdDistrict    BAYVIEW\n",
       "DayOfWeek     Tuesday\n",
       "month               8\n",
       "count              54\n",
       "Name: 67, dtype: object"
      ]
     },
     "execution_count": 16,
     "metadata": {},
     "output_type": "execute_result"
    }
   ],
   "source": [
    "new = group_violent.loc[67]\n",
    "new"
   ]
  },
  {
   "cell_type": "code",
   "execution_count": null,
   "metadata": {
    "deletable": false,
    "nbgrader": {
     "checksum": "241571b789b2120cb78a88e1b15dca5e",
     "grade": false,
     "grade_id": "cell-d7adb5db2fc7b236",
     "locked": false,
     "schema_version": 1,
     "solution": true
    }
   },
   "outputs": [],
   "source": []
  },
  {
   "cell_type": "code",
   "execution_count": null,
   "metadata": {
    "deletable": false,
    "nbgrader": {
     "checksum": "0eb60ef6af137422b407e5b6502150b2",
     "grade": false,
     "grade_id": "cell-5b0241abbdaa88e9",
     "locked": false,
     "schema_version": 1,
     "solution": true
    }
   },
   "outputs": [],
   "source": []
  },
  {
   "cell_type": "code",
   "execution_count": null,
   "metadata": {},
   "outputs": [],
   "source": []
  }
 ],
 "metadata": {
  "kernelspec": {
   "display_name": "Python 3",
   "language": "python",
   "name": "python3"
  },
  "language_info": {
   "codemirror_mode": {
    "name": "ipython",
    "version": 3
   },
   "file_extension": ".py",
   "mimetype": "text/x-python",
   "name": "python",
   "nbconvert_exporter": "python",
   "pygments_lexer": "ipython3",
   "version": "3.7.1"
  },
  "varInspector": {
   "cols": {
    "lenName": 16,
    "lenType": 16,
    "lenVar": 40
   },
   "kernels_config": {
    "python": {
     "delete_cmd_postfix": "",
     "delete_cmd_prefix": "del ",
     "library": "var_list.py",
     "varRefreshCmd": "print(var_dic_list())"
    },
    "r": {
     "delete_cmd_postfix": ") ",
     "delete_cmd_prefix": "rm(",
     "library": "var_list.r",
     "varRefreshCmd": "cat(var_dic_list()) "
    }
   },
   "types_to_exclude": [
    "module",
    "function",
    "builtin_function_or_method",
    "instance",
    "_Feature"
   ],
   "window_display": false
  }
 },
 "nbformat": 4,
 "nbformat_minor": 2
}
